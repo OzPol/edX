{
    "cells": [
        {
            "cell_type": "markdown",
            "metadata": {},
            "source": [
                "## 🏋🏽‍♀️ Fitting a Multi-Regression Model\n",
                "\n",
                "**Objective:**  \n",
                "The aim of this exercise is to understand how to use multiple regression. We will observe the difference in Mean Squared Error (MSE) for each model as the predictors change.\n",
                "\n",
                "### Instructions:\n",
                "\n",
                "1. **Read the data:**\n",
                "   - Load the \"Advertisement.csv\" file as a Pandas DataFrame.\n",
                "\n",
                "2. **Form Models:**\n",
                "   - For each possible combination of the predictors, form a linear regression model. \n",
                "   - For example, if you have 2 predictors, A and B, you will end up with 3 models:\n",
                "     - One with only A.\n",
                "     - One with only B.\n",
                "     - One with both A and B.\n",
                "\n",
                "3. **Split the data:**\n",
                "   - Split the data into training and testing sets using `train_test_split()`.\n",
                "\n",
                "4. **Fit the model:**\n",
                "   - Fit a linear regression model on the training data using `LinearRegression.fit()`.\n",
                "\n",
                "5. **Compute MSE:**\n",
                "   - Calculate the MSE of each model on the test data using `mean_squared_error()`.\n",
                "\n",
                "6. **Print Results:**\n",
                "   - Output the results for each Predictor combination along with their corresponding MSE value.\n",
                "\n",
                "### Hints:\n",
                "\n",
                "- **`pd.read_csv(filename)`**  \n",
                "  Returns a pandas DataFrame containing the data and labels from the file.\n",
                "\n",
                "- **`sklearn.model_selection.train_test_split()`**  \n",
                "  Splits the data into random train and test subsets.\n",
                "\n",
                "- **`sklearn.linear_model.LinearRegression()`**  \n",
                "  LinearRegression fits a linear model.\n",
                "\n",
                "- **`sklearn.linear_model.LinearRegression.fit()`**  \n",
                "  Fits the linear model to the training data.\n",
                "\n",
                "- **`sklearn.linear_model.LinearRegression.predict()`**  \n",
                "  Predicts using the linear model.\n",
                "\n",
                "- **`sklearn.metrics.mean_squared_error()`**  \n",
                "  Computes the mean squared error regression loss.\n",
                "\n",
                "---"
            ]
        },
        {
            "cell_type": "code",
            "execution_count": 1,
            "metadata": {},
            "outputs": [
                {
                    "name": "stdout",
                    "output_type": "stream",
                    "text": [
                        "Requirement already satisfied: prettytable in c:\\users\\odpol\\appdata\\local\\programs\\python\\python311\\lib\\site-packages (3.11.0)\n",
                        "Requirement already satisfied: wcwidth in c:\\users\\odpol\\appdata\\local\\programs\\python\\python311\\lib\\site-packages (from prettytable) (0.2.13)\n",
                        "Note: you may need to restart the kernel to use updated packages.\n"
                    ]
                }
            ],
            "source": [
                "# Import necessary libraries\n",
                "import numpy as np\n",
                "import pandas as pd\n",
                "import matplotlib.pyplot as plt\n",
                "from sklearn import preprocessing\n",
                "%pip install prettytable\n",
                "from prettytable import PrettyTable\n",
                "from sklearn.metrics import mean_squared_error\n",
                "from sklearn.linear_model import LinearRegression\n",
                "from sklearn.model_selection import train_test_split\n",
                "%matplotlib inline\n"
            ]
        },
        {
            "attachments": {},
            "cell_type": "markdown",
            "metadata": {},
            "source": [
                "### Reading the dataset"
            ]
        },
        {
            "cell_type": "code",
            "execution_count": 2,
            "metadata": {},
            "outputs": [],
            "source": [
                "# Read the file \"Advertising.csv\"\n",
                "df = pd.read_csv(\"Advertising.csv\")"
            ]
        },
        {
            "cell_type": "code",
            "execution_count": 3,
            "metadata": {},
            "outputs": [
                {
                    "data": {
                        "text/html": [
                            "<div>\n",
                            "<style scoped>\n",
                            "    .dataframe tbody tr th:only-of-type {\n",
                            "        vertical-align: middle;\n",
                            "    }\n",
                            "\n",
                            "    .dataframe tbody tr th {\n",
                            "        vertical-align: top;\n",
                            "    }\n",
                            "\n",
                            "    .dataframe thead th {\n",
                            "        text-align: right;\n",
                            "    }\n",
                            "</style>\n",
                            "<table border=\"1\" class=\"dataframe\">\n",
                            "  <thead>\n",
                            "    <tr style=\"text-align: right;\">\n",
                            "      <th></th>\n",
                            "      <th>TV</th>\n",
                            "      <th>Radio</th>\n",
                            "      <th>Newspaper</th>\n",
                            "      <th>Sales</th>\n",
                            "    </tr>\n",
                            "  </thead>\n",
                            "  <tbody>\n",
                            "    <tr>\n",
                            "      <th>0</th>\n",
                            "      <td>230.1</td>\n",
                            "      <td>37.8</td>\n",
                            "      <td>69.2</td>\n",
                            "      <td>22.1</td>\n",
                            "    </tr>\n",
                            "    <tr>\n",
                            "      <th>1</th>\n",
                            "      <td>44.5</td>\n",
                            "      <td>39.3</td>\n",
                            "      <td>45.1</td>\n",
                            "      <td>10.4</td>\n",
                            "    </tr>\n",
                            "    <tr>\n",
                            "      <th>2</th>\n",
                            "      <td>17.2</td>\n",
                            "      <td>45.9</td>\n",
                            "      <td>69.3</td>\n",
                            "      <td>9.3</td>\n",
                            "    </tr>\n",
                            "    <tr>\n",
                            "      <th>3</th>\n",
                            "      <td>151.5</td>\n",
                            "      <td>41.3</td>\n",
                            "      <td>58.5</td>\n",
                            "      <td>18.5</td>\n",
                            "    </tr>\n",
                            "    <tr>\n",
                            "      <th>4</th>\n",
                            "      <td>180.8</td>\n",
                            "      <td>10.8</td>\n",
                            "      <td>58.4</td>\n",
                            "      <td>12.9</td>\n",
                            "    </tr>\n",
                            "  </tbody>\n",
                            "</table>\n",
                            "</div>"
                        ],
                        "text/plain": [
                            "      TV  Radio  Newspaper  Sales\n",
                            "0  230.1   37.8       69.2   22.1\n",
                            "1   44.5   39.3       45.1   10.4\n",
                            "2   17.2   45.9       69.3    9.3\n",
                            "3  151.5   41.3       58.5   18.5\n",
                            "4  180.8   10.8       58.4   12.9"
                        ]
                    },
                    "execution_count": 3,
                    "metadata": {},
                    "output_type": "execute_result"
                }
            ],
            "source": [
                "# Take a quick look at the data to list all the predictors\n",
                "df.head()"
            ]
        },
        {
            "attachments": {},
            "cell_type": "markdown",
            "metadata": {},
            "source": [
                "### Create different multi predictor models "
            ]
        },
        {
            "cell_type": "code",
            "execution_count": 4,
            "metadata": {},
            "outputs": [],
            "source": [
                "### edTest(test_mse) ###\n",
                "\n",
                "# Initialize a list to store the MSE values\n",
                "mse_list = []\n",
                "\n",
                "# Create a list of lists of all unique predictor combinations\n",
                "# For example, if you have 2 predictors,  A and B, you would \n",
                "# end up with [['A'],['B'],['A','B']]\n",
                "cols = [['TV'], ['Radio'], ['Newspaper'], ['TV', 'Radio'], ['TV', 'Newspaper'], ['Radio', 'Newspaper'], ['TV', 'Radio', 'Newspaper']]\n",
                "\n",
                "# Loop over all the predictor combinations \n",
                "for i in cols:\n",
                "\n",
                "    # Set each of the predictors from the previous list as x\n",
                "    x = df[i]\n",
                "    \n",
                "    # Set the \"Sales\" column as the reponse variable\n",
                "    y = df['Sales']\n",
                "   \n",
                "    # Split the data into train-test sets with 80% training data and 20% testing data. \n",
                "    # Set random_state as 0\n",
                "    x_train, x_test, y_train, y_test = train_test_split(x, y, train_size=0.8, random_state=0)\n",
                "\n",
                "    # Initialize a Linear Regression model\n",
                "    lreg = LinearRegression()\n",
                "\n",
                "    # Fit the linear model on the train data\n",
                "    lreg.fit(x_train, y_train)\n",
                "\n",
                "    # Predict the response variable for the test set using the trained model\n",
                "    y_pred = lreg.predict(x_test)\n",
                "    \n",
                "    # Compute the MSE for the test data\n",
                "    MSE = mean_squared_error(y_test, y_pred)\n",
                "    \n",
                "    # Append the computed MSE to the initialized list\n",
                "    mse_list.append(MSE)\n"
            ]
        },
        {
            "attachments": {},
            "cell_type": "markdown",
            "metadata": {},
            "source": [
                "### Display the MSE with predictor combinations"
            ]
        },
        {
            "cell_type": "code",
            "execution_count": 5,
            "metadata": {},
            "outputs": [
                {
                    "name": "stdout",
                    "output_type": "stream",
                    "text": [
                        "+------------------------------+--------+\n",
                        "|          Predictors          |  MSE   |\n",
                        "+------------------------------+--------+\n",
                        "|            ['TV']            | 10.186 |\n",
                        "|          ['Radio']           | 24.237 |\n",
                        "|        ['Newspaper']         | 32.137 |\n",
                        "|       ['TV', 'Radio']        | 4.391  |\n",
                        "|     ['TV', 'Newspaper']      | 8.688  |\n",
                        "|    ['Radio', 'Newspaper']    | 24.783 |\n",
                        "| ['TV', 'Radio', 'Newspaper'] | 4.402  |\n",
                        "+------------------------------+--------+\n"
                    ]
                }
            ],
            "source": [
                "# Helper code to display the MSE for each predictor combination\n",
                "t = PrettyTable(['Predictors', 'MSE'])\n",
                "\n",
                "for i in range(len(mse_list)):\n",
                "    t.add_row([cols[i],round(mse_list[i],3)])\n",
                "\n",
                "print(t)\n"
            ]
        }
    ],
    "metadata": {
        "kernelspec": {
            "display_name": "Python 3 (ipykernel)",
            "language": "python",
            "name": "python3"
        },
        "language_info": {
            "codemirror_mode": {
                "name": "ipython",
                "version": 3
            },
            "file_extension": ".py",
            "mimetype": "text/x-python",
            "name": "python",
            "nbconvert_exporter": "python",
            "pygments_lexer": "ipython3",
            "version": "3.11.2"
        }
    },
    "nbformat": 4,
    "nbformat_minor": 2
}
